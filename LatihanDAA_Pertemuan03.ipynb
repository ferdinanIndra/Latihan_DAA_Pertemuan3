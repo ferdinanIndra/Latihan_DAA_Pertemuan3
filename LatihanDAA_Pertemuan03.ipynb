{
  "nbformat": 4,
  "nbformat_minor": 0,
  "metadata": {
    "colab": {
      "provenance": [],
      "authorship_tag": "ABX9TyOemVX0Odf8neFcENRij+vE",
      "include_colab_link": true
    },
    "kernelspec": {
      "name": "python3",
      "display_name": "Python 3"
    },
    "language_info": {
      "name": "python"
    }
  },
  "cells": [
    {
      "cell_type": "markdown",
      "metadata": {
        "id": "view-in-github",
        "colab_type": "text"
      },
      "source": [
        "<a href=\"https://colab.research.google.com/github/ferdinanIndra/Latihan_DAA_Pertemuan3/blob/main/LatihanDAA_Pertemuan03.ipynb\" target=\"_parent\"><img src=\"https://colab.research.google.com/assets/colab-badge.svg\" alt=\"Open In Colab\"/></a>"
      ]
    },
    {
      "cell_type": "code",
      "execution_count": null,
      "metadata": {
        "id": "FNJblMqcEk6a",
        "colab": {
          "base_uri": "https://localhost:8080/"
        },
        "outputId": "b4630926-f2df-4a91-c870-246a4955b4ef"
      },
      "outputs": [
        {
          "output_type": "stream",
          "name": "stdout",
          "text": [
            "['John', 33, 'Toronto', True]\n"
          ]
        }
      ],
      "source": [
        "aList = [\"John\", 33, \"Toronto\", True]\n",
        "print(aList)"
      ]
    },
    {
      "cell_type": "code",
      "source": [
        "import datetime as dt\n",
        "tanggal = dt.date.today()\n",
        "Mahasiswa = ['John', '2023071069', 'Informatika', 'DAA', tanggal, 'Universitas Pembangunan Jaya']\n",
        "print(Mahasiswa)\n"
      ],
      "metadata": {
        "colab": {
          "base_uri": "https://localhost:8080/"
        },
        "id": "acH01dTBGzRV",
        "outputId": "d1330b5a-f0ae-48cb-d291-9caac49c9b41"
      },
      "execution_count": null,
      "outputs": [
        {
          "output_type": "stream",
          "name": "stdout",
          "text": [
            "['John', '2023071069', 'Informatika', 'DAA', datetime.date(2024, 9, 20), 'Universitas Pembangunan Jaya']\n"
          ]
        }
      ]
    },
    {
      "cell_type": "code",
      "source": [
        "bin_colors=['Red','Green','Blue','Yellow']\n",
        "bin_colors[0:2]"
      ],
      "metadata": {
        "colab": {
          "base_uri": "https://localhost:8080/"
        },
        "id": "WhMzrfdaJl0c",
        "outputId": "39e9ce5f-7d5e-46b1-d5b4-01a183d30fcc"
      },
      "execution_count": null,
      "outputs": [
        {
          "output_type": "execute_result",
          "data": {
            "text/plain": [
              "['Red', 'Green']"
            ]
          },
          "metadata": {},
          "execution_count": 21
        }
      ]
    },
    {
      "cell_type": "code",
      "source": [
        "print(bin_colors[1:2])"
      ],
      "metadata": {
        "colab": {
          "base_uri": "https://localhost:8080/"
        },
        "id": "toOBhgu3KiQb",
        "outputId": "7ae7bdec-e86a-47d5-a221-54fbbce1d884"
      },
      "execution_count": null,
      "outputs": [
        {
          "output_type": "stream",
          "name": "stdout",
          "text": [
            "['Green']\n"
          ]
        }
      ]
    },
    {
      "cell_type": "code",
      "source": [
        "print(bin_colors[2:2])"
      ],
      "metadata": {
        "colab": {
          "base_uri": "https://localhost:8080/"
        },
        "id": "0-7NGtWYKshS",
        "outputId": "30486389-9189-4449-f5ca-4e18864df5c6"
      },
      "execution_count": null,
      "outputs": [
        {
          "output_type": "stream",
          "name": "stdout",
          "text": [
            "[]\n"
          ]
        }
      ]
    },
    {
      "cell_type": "code",
      "source": [
        "print(bin_colors[1:3])"
      ],
      "metadata": {
        "colab": {
          "base_uri": "https://localhost:8080/"
        },
        "id": "zpSo4dihJvtS",
        "outputId": "d509ebb9-e618-4b6a-ff11-c9f9e20b5d2d"
      },
      "execution_count": null,
      "outputs": [
        {
          "output_type": "stream",
          "name": "stdout",
          "text": [
            "['Green', 'Blue']\n"
          ]
        }
      ]
    },
    {
      "cell_type": "code",
      "source": [
        "mahasiswa = ['John', '2023071069', 'Informatika', 'DAA', tanggal, 'Universitas Pembangunan Jaya']\n",
        "print(\"Nim dan Prodi :\", mahasiswa[1:3])\n"
      ],
      "metadata": {
        "colab": {
          "base_uri": "https://localhost:8080/"
        },
        "id": "kItlZWt5LTeT",
        "outputId": "f6d9d830-bb7a-43df-ce24-c4dca2137366"
      },
      "execution_count": null,
      "outputs": [
        {
          "output_type": "stream",
          "name": "stdout",
          "text": [
            "Nim dan Prodi : ['2023071069', 'Informatika']\n"
          ]
        }
      ]
    },
    {
      "cell_type": "code",
      "source": [
        "mahasiswa = ['John', '2023071069', 'Informatika', 'DAA', tanggal, 'Universitas Pembangunan Jaya']\n",
        "print(\"tanggal dan  :\", mahasiswa[1:3])"
      ],
      "metadata": {
        "colab": {
          "base_uri": "https://localhost:8080/"
        },
        "id": "Ww87I2v-MJjW",
        "outputId": "102888ef-9525-4340-ab9f-f5852525df2c"
      },
      "execution_count": null,
      "outputs": [
        {
          "output_type": "stream",
          "name": "stdout",
          "text": [
            "tanggal dan  : ['2023071069', 'Informatika']\n"
          ]
        }
      ]
    },
    {
      "cell_type": "code",
      "source": [],
      "metadata": {
        "id": "ct8OANg1OUG6"
      },
      "execution_count": null,
      "outputs": []
    },
    {
      "cell_type": "code",
      "source": [
        "bin_colors=['Red','Green','Blue','Yellow']\n",
        "for aColor in bin_colors:\n",
        "  print(aColor, \" Square\")"
      ],
      "metadata": {
        "colab": {
          "base_uri": "https://localhost:8080/"
        },
        "id": "R8HnItQ-MhJC",
        "outputId": "68fb3e6f-fb7c-4f44-ecec-c9783e64ae63"
      },
      "execution_count": null,
      "outputs": [
        {
          "output_type": "stream",
          "name": "stdout",
          "text": [
            "Red  Square\n",
            "Green  Square\n",
            "Blue  Square\n",
            "Yellow  Square\n"
          ]
        }
      ]
    },
    {
      "cell_type": "code",
      "source": [
        "mahasiswa = ['John', '2023071069', 'Informatika', 'DAA', tanggal, 'Universitas Pembangunan Jaya']\n",
        "for aMahasiswa in mahasiswa:\n",
        "  print(aMahasiswa, \" UPJ\")\n"
      ],
      "metadata": {
        "colab": {
          "base_uri": "https://localhost:8080/"
        },
        "id": "1SlvjHEANd5p",
        "outputId": "e2076bf3-e178-49cf-d709-613f1070d0cf"
      },
      "execution_count": null,
      "outputs": [
        {
          "output_type": "stream",
          "name": "stdout",
          "text": [
            "John  UPJ\n",
            "2023071069  UPJ\n",
            "Informatika  UPJ\n",
            "DAA  UPJ\n",
            "2024-09-20  UPJ\n",
            "Universitas Pembangunan Jaya  UPJ\n"
          ]
        }
      ]
    },
    {
      "cell_type": "code",
      "source": [
        "namakampus = ['Universitas', 'Pembangunan', 'Jaya']\n",
        "for aKampus in namakampus:\n",
        "  print(aKampus)"
      ],
      "metadata": {
        "colab": {
          "base_uri": "https://localhost:8080/"
        },
        "id": "dnO-grABOW1N",
        "outputId": "e0412911-1fd5-423e-811f-07684a7fa3c5"
      },
      "execution_count": null,
      "outputs": [
        {
          "output_type": "stream",
          "name": "stdout",
          "text": [
            "Universitas\n",
            "Pembangunan\n",
            "Jaya\n"
          ]
        }
      ]
    },
    {
      "cell_type": "code",
      "source": [
        "#NESTED TUPLE\n",
        "nested_tuple = ((100), (200, 400, 600), (300), (400, 800))\n",
        "print(nested_tuple[0])\n",
        "print(nested_tuple[1])\n",
        "print(nested_tuple[2])\n",
        "print(nested_tuple[3])"
      ],
      "metadata": {
        "colab": {
          "base_uri": "https://localhost:8080/"
        },
        "id": "kjDmY-awQAII",
        "outputId": "407696ad-8135-43cd-cf0e-9be0eab336b9"
      },
      "execution_count": null,
      "outputs": [
        {
          "output_type": "stream",
          "name": "stdout",
          "text": [
            "100\n",
            "(200, 400, 600)\n",
            "300\n",
            "(400, 800)\n"
          ]
        }
      ]
    },
    {
      "cell_type": "code",
      "source": [
        "#DICTIONARY\n",
        "mahasiswa={\n",
        "    \"nama\": \"Ferdinan Indra Fata\",\n",
        "    \"nim\": \"2023071059\",\n",
        "    \"prodi\": \"Informatika\",\n",
        "    \"Universitas\": \"UPJ\"\n",
        "}\n",
        "\n",
        "print(mahasiswa)"
      ],
      "metadata": {
        "colab": {
          "base_uri": "https://localhost:8080/"
        },
        "id": "njlKAOhZVFyA",
        "outputId": "7c1417eb-590c-4a24-cbdf-d009cd53049c"
      },
      "execution_count": null,
      "outputs": [
        {
          "output_type": "stream",
          "name": "stdout",
          "text": [
            "{'nama': 'Ferdinan Indra Fata', 'nim': '2023071059', 'prodi': 'Informatika', 'Universitas': 'UPJ'}\n"
          ]
        }
      ]
    },
    {
      "cell_type": "code",
      "source": [
        "def pisahkan_warna(yellow_red):\n",
        "\n",
        "\n",
        "  warna_kata = {'yellow': set(), 'red': set()}\n",
        "  warna_dominan = {'yellow': {'dandelions', 'leaves'}, 'red': {'blood', 'rose', 'fire hydrant'}}\n",
        "\n",
        "  for kata in kata_kata:\n",
        "    for warna in warna_dominan:\n",
        "      if kata in warna_dominan[warna]:\n",
        "        warna_kata[warna].add(kata)\n",
        "\n",
        "  return warna_kata\n",
        "\n",
        "yellow_red = {'blood', 'rose', 'dandelions', 'fire hydrant', 'leaves'}\n",
        "hasil = pisahkan_warna(yellow_red)\n",
        "print(hasil)\n"
      ],
      "metadata": {
        "colab": {
          "base_uri": "https://localhost:8080/"
        },
        "id": "vz-vHWLXXABM",
        "outputId": "68bfc0a5-dc92-4189-90e3-a48f44788674"
      },
      "execution_count": null,
      "outputs": [
        {
          "output_type": "stream",
          "name": "stdout",
          "text": [
            "{'yellow': {'dandelions', 'leaves'}, 'red': {'fire hydrant', 'blood', 'rose'}}\n"
          ]
        }
      ]
    },
    {
      "cell_type": "code",
      "source": [
        "import pandas as pd\n",
        "\n",
        "data = [\n",
        "    [\"1\", \"Informatika\", 50, 30, 20],\n",
        "    [\"2\", \"Sistem Informasi\", 55, 30, 25],\n",
        "    [\"3\", \"Teknik Sipil\", 40, 30, 10]\n",
        "]\n",
        "\n",
        "Prodi = pd.DataFrame(data, columns=[\"No\", \"Prodi\", \"Mahasiswa\", \"Laki-laki\", \"Perempuan\"])\n",
        "\n",
        "print(Prodi)"
      ],
      "metadata": {
        "colab": {
          "base_uri": "https://localhost:8080/"
        },
        "id": "CZueExzjbIVM",
        "outputId": "c8c47980-a274-485b-acc6-ebeb7322bf66"
      },
      "execution_count": null,
      "outputs": [
        {
          "output_type": "stream",
          "name": "stdout",
          "text": [
            "  No             Prodi  Mahasiswa  Laki-laki  Perempuan\n",
            "0  1       Informatika         50         30         20\n",
            "1  2  Sistem Informasi         55         30         25\n",
            "2  3      Teknik Sipil         40         30         10\n"
          ]
        }
      ]
    },
    {
      "cell_type": "code",
      "source": [
        "import numpy as np\n",
        "myMatrix = np.array([[100, 200, 300], [700, 600, 500], [900, 1000, 800]])\n",
        "print(myMatrix)"
      ],
      "metadata": {
        "colab": {
          "base_uri": "https://localhost:8080/"
        },
        "id": "WnoVj79EeFTf",
        "outputId": "98ec0c09-ff44-4459-9249-df4437f20823"
      },
      "execution_count": null,
      "outputs": [
        {
          "output_type": "stream",
          "name": "stdout",
          "text": [
            "[[ 100  200  300]\n",
            " [ 700  600  500]\n",
            " [ 900 1000  800]]\n"
          ]
        }
      ]
    },
    {
      "cell_type": "code",
      "source": [
        "import pandas as pd"
      ],
      "metadata": {
        "id": "Gkt2VfU1dOTk"
      },
      "execution_count": null,
      "outputs": []
    }
  ]
}